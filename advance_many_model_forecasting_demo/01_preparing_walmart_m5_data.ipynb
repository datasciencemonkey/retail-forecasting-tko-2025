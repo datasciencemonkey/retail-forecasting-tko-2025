{
 "cells": [
  {
   "cell_type": "markdown",
   "metadata": {
    "application/vnd.databricks.v1+cell": {
     "cellMetadata": {},
     "inputWidgets": {},
     "nuid": "509c817f-1323-4b40-94cf-5874f9d82de4",
     "showTitle": false,
     "tableResultSettingsMap": {},
     "title": ""
    }
   },
   "source": [
    "# Preparing the walmart data. \n",
    "\n",
    "AIM: The notebook helps download walmart data and turn it to a format similar to M&S hierarchical data. [Link to the dataset](https://www.kaggle.com/competitions/m5-forecasting-accuracy)"
   ]
  },
  {
   "cell_type": "markdown",
   "metadata": {
    "application/vnd.databricks.v1+cell": {
     "cellMetadata": {},
     "inputWidgets": {},
     "nuid": "d93e180a-3912-445b-9b51-af90bf909eea",
     "showTitle": false,
     "tableResultSettingsMap": {},
     "title": ""
    }
   },
   "source": [
    "<br></br>\n",
    "<div style=\"text-align: center; line-height: 5; padding-top: 20px;  padding-bottom: 20px;\">\n",
    "  <img src=\"https://raw.githubusercontent.com/puneet-jain159/Image_dump/2a8b03eef9bd111b98b261846d57b72ce98fde38/walmart_data_description.png\" alt='Push compute' height=\"1000\" width=\"1600\">\n",
    "</div>"
   ]
  },
  {
   "cell_type": "markdown",
   "metadata": {
    "application/vnd.databricks.v1+cell": {
     "cellMetadata": {},
     "inputWidgets": {},
     "nuid": "840ad0a4-6011-4045-9f66-f94f20e7d2ef",
     "showTitle": false,
     "tableResultSettingsMap": {},
     "title": ""
    }
   },
   "source": [
    "### Install Dependencies"
   ]
  },
  {
   "cell_type": "code",
   "execution_count": 0,
   "metadata": {
    "application/vnd.databricks.v1+cell": {
     "cellMetadata": {
      "byteLimit": 2048000,
      "rowLimit": 10000
     },
     "inputWidgets": {},
     "nuid": "b4b8cee5-9472-4c61-8f8b-2ce72c3ff048",
     "showTitle": false,
     "tableResultSettingsMap": {},
     "title": ""
    }
   },
   "outputs": [],
   "source": [
    "import pandas as pd\n",
    "import numpy as np\n",
    "import os"
   ]
  },
  {
   "cell_type": "markdown",
   "metadata": {
    "application/vnd.databricks.v1+cell": {
     "cellMetadata": {},
     "inputWidgets": {},
     "nuid": "f08792c8-0968-4090-ba89-38d4bcb655fa",
     "showTitle": false,
     "tableResultSettingsMap": {},
     "title": ""
    }
   },
   "source": [
    "### Setup UC configurations and Kaggle credentials to get M5 dataset"
   ]
  },
  {
   "cell_type": "code",
   "execution_count": 0,
   "metadata": {
    "application/vnd.databricks.v1+cell": {
     "cellMetadata": {
      "byteLimit": 2048000,
      "rowLimit": 10000
     },
     "inputWidgets": {},
     "nuid": "8511a1a1-edef-4e0e-a181-6bd48deaf012",
     "showTitle": false,
     "tableResultSettingsMap": {},
     "title": ""
    }
   },
   "outputs": [],
   "source": [
    "CATALOG = 'mlops_pj'\n",
    "SCHEMA = 'many_model_forecasting_example'\n",
    "VOLUME = 'walmart'\n",
    "KAGGLE_U = 'puneetjain159'\n",
    "KAGGLE_K = '54659f7e18d116d3cef8316a111568b7'"
   ]
  },
  {
   "cell_type": "code",
   "execution_count": 0,
   "metadata": {
    "application/vnd.databricks.v1+cell": {
     "cellMetadata": {
      "byteLimit": 2048000,
      "rowLimit": 10000
     },
     "inputWidgets": {},
     "nuid": "1879ebcd-ce3f-468c-bea3-f817a635fafd",
     "showTitle": false,
     "tableResultSettingsMap": {},
     "title": ""
    }
   },
   "outputs": [],
   "source": [
    "# Check if UC assets exists and create them if they do not\n",
    "# spark.sql(f\"CREATE CATALOG IF NOT EXISTS {CATALOG}\")\n",
    "spark.sql(f\"USE CATALOG {CATALOG}\")\n",
    "spark.sql(f\"CREATE SCHEMA IF NOT EXISTS {SCHEMA}\")\n",
    "spark.sql(f\"USE SCHEMA {SCHEMA}\")\n",
    "spark.sql(f\"CREATE VOLUME IF NOT EXISTS {CATALOG}.{SCHEMA}.{VOLUME}\")\n"
   ]
  },
  {
   "cell_type": "markdown",
   "metadata": {
    "application/vnd.databricks.v1+cell": {
     "cellMetadata": {},
     "inputWidgets": {},
     "nuid": "643cdde7-0b73-48eb-8717-59add0d8272e",
     "showTitle": false,
     "tableResultSettingsMap": {},
     "title": ""
    }
   },
   "source": [
    "### Clone Data from Kaggle"
   ]
  },
  {
   "cell_type": "markdown",
   "metadata": {
    "application/vnd.databricks.v1+cell": {
     "cellMetadata": {},
     "inputWidgets": {},
     "nuid": "cbc058be-08c5-49b7-9845-1ac622ef5b48",
     "showTitle": false,
     "tableResultSettingsMap": {},
     "title": ""
    }
   },
   "source": [
    "Below is shell script to download the data from kaggle .</br> You will need to sign in and generate access key to download the data and also agree to the data disclaimer other wise it will hit a 403 error</br> After downloading to the local disk the data is copied to dbfs\n",
    "```\n",
    "kaggle competitions download -c m5-forecasting-accuracy -p /dbfs/walmart/data/\n",
    "```"
   ]
  },
  {
   "cell_type": "code",
   "execution_count": 0,
   "metadata": {
    "application/vnd.databricks.v1+cell": {
     "cellMetadata": {
      "byteLimit": 2048000,
      "rowLimit": 10000
     },
     "inputWidgets": {},
     "nuid": "fda0f756-0c07-4284-a707-8085a252831b",
     "showTitle": false,
     "tableResultSettingsMap": {},
     "title": ""
    }
   },
   "outputs": [],
   "source": [
    "!pip install kaggle && export KAGGLE_USERNAME={KAGGLE_U} && export KAGGLE_KEY={KAGGLE_K} && kaggle competitions download --force -c m5-forecasting-accuracy -p /Volumes/{CATALOG}/{SCHEMA}/{VOLUME} &&  unzip -o /Volumes/{CATALOG}/{SCHEMA}/{VOLUME}/m5-forecasting-accuracy.zip  -d /Volumes/{CATALOG}/{SCHEMA}/{VOLUME}/unzipped/"
   ]
  },
  {
   "cell_type": "code",
   "execution_count": 0,
   "metadata": {
    "application/vnd.databricks.v1+cell": {
     "cellMetadata": {
      "byteLimit": 2048000,
      "rowLimit": 10000
     },
     "inputWidgets": {},
     "nuid": "ff91e129-77c2-47e9-a807-2763a9f2c016",
     "showTitle": false,
     "tableResultSettingsMap": {},
     "title": ""
    }
   },
   "outputs": [],
   "source": [
    "dbutils.fs.ls(f'/Volumes/{CATALOG}/{SCHEMA}/{VOLUME}/unzipped')"
   ]
  },
  {
   "cell_type": "markdown",
   "metadata": {
    "application/vnd.databricks.v1+cell": {
     "cellMetadata": {},
     "inputWidgets": {},
     "nuid": "7753d064-07a1-4de1-9680-ee506a6cc6ba",
     "showTitle": false,
     "tableResultSettingsMap": {},
     "title": ""
    }
   },
   "source": [
    "### Read the downloaded data and analyize all the different files"
   ]
  },
  {
   "cell_type": "code",
   "execution_count": 0,
   "metadata": {
    "application/vnd.databricks.v1+cell": {
     "cellMetadata": {
      "byteLimit": 2048000,
      "rowLimit": 10000
     },
     "inputWidgets": {},
     "nuid": "f7c36551-2af2-4a01-9d4a-06e6ac946dff",
     "showTitle": false,
     "tableResultSettingsMap": {},
     "title": ""
    }
   },
   "outputs": [],
   "source": [
    "sdf_calendar = spark.read.csv(f'/Volumes/{CATALOG}/{SCHEMA}/{VOLUME}/unzipped/calendar.csv', header=\"True\")\n",
    "sdf_calendar.cache()\n",
    "print(sdf_calendar.count())\n",
    "sdf_calendar.display()"
   ]
  },
  {
   "cell_type": "code",
   "execution_count": 0,
   "metadata": {
    "application/vnd.databricks.v1+cell": {
     "cellMetadata": {
      "byteLimit": 2048000,
      "rowLimit": 10000
     },
     "inputWidgets": {},
     "nuid": "15f55d64-afde-4f1b-8526-5ab54b1ff208",
     "showTitle": false,
     "tableResultSettingsMap": {},
     "title": ""
    }
   },
   "outputs": [],
   "source": [
    "sdf_sales_train_evaluation = spark.read.csv(f'/Volumes/{CATALOG}/{SCHEMA}/{VOLUME}/unzipped/sales_train_evaluation.csv', header=\"True\")\n",
    "sdf_sales_train_evaluation.cache()\n",
    "print( sdf_sales_train_evaluation.count())\n",
    "sdf_sales_train_evaluation.display()"
   ]
  },
  {
   "cell_type": "code",
   "execution_count": 0,
   "metadata": {
    "application/vnd.databricks.v1+cell": {
     "cellMetadata": {
      "byteLimit": 2048000,
      "rowLimit": 10000
     },
     "inputWidgets": {},
     "nuid": "91a5a3d3-1073-4d3a-aa51-d4b366fcf7a8",
     "showTitle": false,
     "tableResultSettingsMap": {},
     "title": ""
    },
    "jupyter": {
     "outputs_hidden": true
    }
   },
   "outputs": [],
   "source": [
    "sdf_sell_prices= spark.read.csv(f'/Volumes/{CATALOG}/{SCHEMA}/{VOLUME}/unzipped/sell_prices.csv', header=\"True\")\n",
    "sdf_sell_prices.cache()\n",
    "print( sdf_sell_prices.count())\n",
    "sdf_sell_prices.display()"
   ]
  },
  {
   "cell_type": "markdown",
   "metadata": {
    "application/vnd.databricks.v1+cell": {
     "cellMetadata": {},
     "inputWidgets": {},
     "nuid": "d96f2c32-154c-462f-939d-9c3d23e2f522",
     "showTitle": false,
     "tableResultSettingsMap": {},
     "title": ""
    }
   },
   "source": [
    "### Transformation and clean the data\n",
    "We transform and melt the column into rows"
   ]
  },
  {
   "cell_type": "code",
   "execution_count": 0,
   "metadata": {
    "application/vnd.databricks.v1+cell": {
     "cellMetadata": {
      "byteLimit": 2048000,
      "rowLimit": 10000
     },
     "inputWidgets": {},
     "nuid": "f2e2d2d8-539a-40fe-85fb-1313a2b07d51",
     "showTitle": false,
     "tableResultSettingsMap": {},
     "title": ""
    }
   },
   "outputs": [],
   "source": [
    "ids =['id','item_id','dept_id','cat_id','store_id','state_id'] \n",
    "cols = [col for col in sdf_sales_train_evaluation.columns if col not in ids ] \n",
    "\n",
    "# pivot the data\n",
    "sdf_sales_train_evaluation_pivot = (sdf_sales_train_evaluation.melt(\n",
    "    ids=ids, values=cols,\n",
    "    variableColumnName=\"date\", valueColumnName=\"sale_quantity\"))\n",
    "\n",
    "sdf_sales_train_evaluation_pivot.write.mode(\"overwrite\").format('delta').saveAsTable('sdf_sales_train_evaluation')"
   ]
  },
  {
   "cell_type": "code",
   "execution_count": 0,
   "metadata": {
    "application/vnd.databricks.v1+cell": {
     "cellMetadata": {
      "byteLimit": 2048000,
      "rowLimit": 10000
     },
     "inputWidgets": {},
     "nuid": "254b6dad-e0f0-4dc2-a65e-7532cd5fd08e",
     "showTitle": false,
     "tableResultSettingsMap": {},
     "title": ""
    }
   },
   "outputs": [],
   "source": [
    "# sdf_sell_prices.filter((sdf_sell_prices.item_id == 'HOUSEHOLD_1_335') & (sdf_sell_prices.wm_yr_wk == '11105') & (sdf_sell_prices.store_id == 'CA_2')).display()"
   ]
  },
  {
   "cell_type": "code",
   "execution_count": 0,
   "metadata": {
    "application/vnd.databricks.v1+cell": {
     "cellMetadata": {
      "byteLimit": 2048000,
      "rowLimit": 10000
     },
     "inputWidgets": {},
     "nuid": "8e5ba89e-d802-40f3-9042-ce13e2c02191",
     "showTitle": false,
     "tableResultSettingsMap": {},
     "title": ""
    }
   },
   "outputs": [],
   "source": [
    "# merge to get date \n",
    "sdf_calendar = sdf_calendar.withColumnRenamed(\"date\", 'date_time')\n",
    "cond = [sdf_sales_train_evaluation_pivot.date == sdf_calendar.d]\n",
    "sdf_sales_train_evaluation_pivot = sdf_sales_train_evaluation_pivot.join(sdf_calendar.select(['d','wm_yr_wk','date_time']),cond, 'left')\n",
    "\n",
    "# merge to get sales price\n",
    "cond = [sdf_sales_train_evaluation_pivot.wm_yr_wk == sdf_sell_prices.wm_yr_wk,\n",
    "        sdf_sales_train_evaluation_pivot.item_id == sdf_sell_prices.item_id,\n",
    "        sdf_sales_train_evaluation_pivot.store_id == sdf_sell_prices.store_id ]\n",
    "final_table = sdf_sales_train_evaluation_pivot.join(sdf_sell_prices,cond, 'left'). \\\n",
    "      select(sdf_sales_train_evaluation_pivot.item_id,sdf_sales_train_evaluation_pivot.dept_id,\n",
    "             sdf_sales_train_evaluation_pivot.cat_id,sdf_sales_train_evaluation_pivot.store_id,\n",
    "             sdf_sales_train_evaluation_pivot.state_id ,sdf_sales_train_evaluation_pivot.date_time,\n",
    "             sdf_sell_prices.sell_price ,sdf_sales_train_evaluation_pivot.sale_quantity)\n",
    "\n",
    "# write out the final table\n",
    "final_table.write.mode(\"overwrite\").format('delta').saveAsTable('final_cleaned_table')"
   ]
  },
  {
   "cell_type": "code",
   "execution_count": 0,
   "metadata": {
    "application/vnd.databricks.v1+cell": {
     "cellMetadata": {
      "byteLimit": 2048000,
      "rowLimit": 10000
     },
     "inputWidgets": {},
     "nuid": "ef92d343-535a-439f-ad85-b8b1b655cf0a",
     "showTitle": false,
     "tableResultSettingsMap": {},
     "title": ""
    }
   },
   "outputs": [],
   "source": [
    "# Clean the final table \n",
    "\n",
    "# remove nulls sell_price and sales_quantity = 0 \n",
    "final_table = final_table.filter(final_table.sale_quantity > 0)\n",
    "display(final_table)"
   ]
  },
  {
   "cell_type": "markdown",
   "metadata": {
    "application/vnd.databricks.v1+cell": {
     "cellMetadata": {},
     "inputWidgets": {},
     "nuid": "5771ee2a-1b1c-40a3-a688-6bcffe874c6d",
     "showTitle": false,
     "tableResultSettingsMap": {},
     "title": ""
    }
   },
   "source": [
    "### Write out the final table as a Delta Table"
   ]
  },
  {
   "cell_type": "code",
   "execution_count": 0,
   "metadata": {
    "application/vnd.databricks.v1+cell": {
     "cellMetadata": {
      "byteLimit": 2048000,
      "rowLimit": 10000
     },
     "inputWidgets": {},
     "nuid": "66188230-b06b-4847-826d-7d89b717a3b0",
     "showTitle": false,
     "tableResultSettingsMap": {},
     "title": ""
    }
   },
   "outputs": [],
   "source": [
    "#\n",
    "final_table.write.mode(\"overwrite\").format('delta').saveAsTable('final_cleaned_filtered')"
   ]
  }
 ],
 "metadata": {
  "application/vnd.databricks.v1+notebook": {
   "computePreferences": null,
   "dashboards": [],
   "environmentMetadata": null,
   "language": "python",
   "notebookMetadata": {
    "mostRecentlyExecutedCommandWithImplicitDF": {
     "commandId": -1,
     "dataframes": [
      "_sqldf"
     ]
    },
    "pythonIndentUnit": 2
   },
   "notebookName": "01_preparing_walmart_m5_data",
   "widgets": {}
  },
  "kernelspec": {
   "display_name": "base",
   "language": "python",
   "name": "python3"
  },
  "language_info": {
   "name": "python"
  }
 },
 "nbformat": 4,
 "nbformat_minor": 0
}
